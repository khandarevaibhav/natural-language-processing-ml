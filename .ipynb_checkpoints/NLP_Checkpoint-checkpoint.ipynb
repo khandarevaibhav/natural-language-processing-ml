{
 "cells": [
  {
   "cell_type": "code",
   "execution_count": 1,
   "id": "c3865079",
   "metadata": {},
   "outputs": [],
   "source": [
    "import spacy"
   ]
  },
  {
   "cell_type": "code",
   "execution_count": 2,
   "id": "0a3808c9",
   "metadata": {},
   "outputs": [],
   "source": [
    "english = spacy.load('en_core_web_sm')"
   ]
  },
  {
   "cell_type": "code",
   "execution_count": 3,
   "id": "7d07850a",
   "metadata": {},
   "outputs": [
    {
     "data": {
      "text/plain": [
       "<spacy.lang.en.English at 0x24ce2499760>"
      ]
     },
     "execution_count": 3,
     "metadata": {},
     "output_type": "execute_result"
    }
   ],
   "source": [
    "english"
   ]
  },
  {
   "cell_type": "code",
   "execution_count": 4,
   "id": "b52cb7ab",
   "metadata": {},
   "outputs": [],
   "source": [
    "s = english(\"Nicks invest more than $2 in setting up with carrier\")"
   ]
  },
  {
   "cell_type": "code",
   "execution_count": 5,
   "id": "cc9977de",
   "metadata": {},
   "outputs": [
    {
     "data": {
      "text/plain": [
       "Nicks invest more than $2 in setting up with carrier"
      ]
     },
     "execution_count": 5,
     "metadata": {},
     "output_type": "execute_result"
    }
   ],
   "source": [
    "s"
   ]
  },
  {
   "cell_type": "code",
   "execution_count": 6,
   "id": "387bb48c",
   "metadata": {},
   "outputs": [
    {
     "data": {
      "text/plain": [
       "spacy.tokens.doc.Doc"
      ]
     },
     "execution_count": 6,
     "metadata": {},
     "output_type": "execute_result"
    }
   ],
   "source": [
    "type(s)"
   ]
  },
  {
   "cell_type": "code",
   "execution_count": 7,
   "id": "21e73b9c",
   "metadata": {},
   "outputs": [
    {
     "name": "stdout",
     "output_type": "stream",
     "text": [
      "Nicks\n",
      "invest\n",
      "more\n",
      "than\n",
      "$\n",
      "2\n",
      "in\n",
      "setting\n",
      "up\n",
      "with\n",
      "carrier\n"
     ]
    }
   ],
   "source": [
    "for i in s:\n",
    "    print(i.text)"
   ]
  },
  {
   "cell_type": "code",
   "execution_count": 8,
   "id": "285c53de",
   "metadata": {},
   "outputs": [
    {
     "data": {
      "text/plain": [
       "Nicks"
      ]
     },
     "execution_count": 8,
     "metadata": {},
     "output_type": "execute_result"
    }
   ],
   "source": [
    "s[0]"
   ]
  },
  {
   "cell_type": "code",
   "execution_count": 9,
   "id": "870d5755",
   "metadata": {},
   "outputs": [
    {
     "data": {
      "text/plain": [
       "'Nicks'"
      ]
     },
     "execution_count": 9,
     "metadata": {},
     "output_type": "execute_result"
    }
   ],
   "source": [
    "s[0].text"
   ]
  },
  {
   "cell_type": "code",
   "execution_count": 10,
   "id": "6857f8ee",
   "metadata": {},
   "outputs": [
    {
     "data": {
      "text/plain": [
       "92"
      ]
     },
     "execution_count": 10,
     "metadata": {},
     "output_type": "execute_result"
    }
   ],
   "source": [
    "#part of speech with some spicy secret code \n",
    "s[0].pos"
   ]
  },
  {
   "cell_type": "code",
   "execution_count": 11,
   "id": "128ef67b",
   "metadata": {},
   "outputs": [
    {
     "data": {
      "text/plain": [
       "'NOUN'"
      ]
     },
     "execution_count": 11,
     "metadata": {},
     "output_type": "execute_result"
    }
   ],
   "source": [
    "# it gives exact part of speech\n",
    "s[0].pos_"
   ]
  },
  {
   "cell_type": "code",
   "execution_count": 16,
   "id": "fc6cd95b",
   "metadata": {},
   "outputs": [],
   "source": [
    "s1 =english (\"LW invest more than $3 setting up to iiec\")"
   ]
  },
  {
   "cell_type": "code",
   "execution_count": 17,
   "id": "e0f75e7a",
   "metadata": {},
   "outputs": [
    {
     "data": {
      "text/plain": [
       "LW invest more than $3 setting up to iiec"
      ]
     },
     "execution_count": 17,
     "metadata": {},
     "output_type": "execute_result"
    }
   ],
   "source": [
    "s1"
   ]
  },
  {
   "cell_type": "code",
   "execution_count": 18,
   "id": "3db4d320",
   "metadata": {},
   "outputs": [
    {
     "data": {
      "text/plain": [
       "LW"
      ]
     },
     "execution_count": 18,
     "metadata": {},
     "output_type": "execute_result"
    }
   ],
   "source": [
    "s1[0]"
   ]
  },
  {
   "cell_type": "code",
   "execution_count": 19,
   "id": "5e7157d8",
   "metadata": {},
   "outputs": [
    {
     "data": {
      "text/plain": [
       "'LW'"
      ]
     },
     "execution_count": 19,
     "metadata": {},
     "output_type": "execute_result"
    }
   ],
   "source": [
    "s1[0].text"
   ]
  },
  {
   "cell_type": "code",
   "execution_count": 20,
   "id": "98a7024e",
   "metadata": {},
   "outputs": [
    {
     "data": {
      "text/plain": [
       "96"
      ]
     },
     "execution_count": 20,
     "metadata": {},
     "output_type": "execute_result"
    }
   ],
   "source": [
    "s1[0].pos"
   ]
  },
  {
   "cell_type": "code",
   "execution_count": 21,
   "id": "6270549a",
   "metadata": {},
   "outputs": [
    {
     "data": {
      "text/plain": [
       "'PROPN'"
      ]
     },
     "execution_count": 21,
     "metadata": {},
     "output_type": "execute_result"
    }
   ],
   "source": [
    "s1[0].pos_"
   ]
  },
  {
   "cell_type": "code",
   "execution_count": 22,
   "id": "5acc3927",
   "metadata": {},
   "outputs": [
    {
     "data": {
      "text/plain": [
       "'nsubj'"
      ]
     },
     "execution_count": 22,
     "metadata": {},
     "output_type": "execute_result"
    }
   ],
   "source": [
    "#synthetic dependencies\n",
    "s1[0].dep_"
   ]
  },
  {
   "cell_type": "code",
   "execution_count": 23,
   "id": "65d024e3",
   "metadata": {},
   "outputs": [],
   "source": [
    "doc1 = english(\"Apple is looking at buying U.K. startup for $2 billion\")"
   ]
  },
  {
   "cell_type": "code",
   "execution_count": 24,
   "id": "6de63e66",
   "metadata": {},
   "outputs": [
    {
     "data": {
      "text/plain": [
       "spacy.tokens.doc.Doc"
      ]
     },
     "execution_count": 24,
     "metadata": {},
     "output_type": "execute_result"
    }
   ],
   "source": [
    "type(doc1)"
   ]
  },
  {
   "cell_type": "code",
   "execution_count": 29,
   "id": "482b71d7",
   "metadata": {},
   "outputs": [
    {
     "name": "stdout",
     "output_type": "stream",
     "text": [
      "Apple\n",
      "is\n",
      "looking\n",
      "at\n",
      "buying\n",
      "U.K.\n",
      "startup\n",
      "for\n",
      "$\n",
      "2\n",
      "billion\n"
     ]
    }
   ],
   "source": [
    "for t in doc1:\n",
    "    print(t.text)"
   ]
  },
  {
   "cell_type": "code",
   "execution_count": 31,
   "id": "2560f523",
   "metadata": {},
   "outputs": [
    {
     "name": "stdout",
     "output_type": "stream",
     "text": [
      "Apple 96 PROPN\n",
      "is 87 AUX\n",
      "looking 100 VERB\n",
      "at 85 ADP\n",
      "buying 100 VERB\n",
      "U.K. 96 PROPN\n",
      "startup 92 NOUN\n",
      "for 85 ADP\n",
      "$ 99 SYM\n",
      "2 93 NUM\n",
      "billion 93 NUM\n"
     ]
    }
   ],
   "source": [
    "for i in doc1:\n",
    "    print(i.text, i.pos, i.pos_)"
   ]
  },
  {
   "cell_type": "code",
   "execution_count": 32,
   "id": "ab75dbd4",
   "metadata": {},
   "outputs": [
    {
     "name": "stdout",
     "output_type": "stream",
     "text": [
      "429 nsubj\n",
      "405 aux\n",
      "8206900633647566924 ROOT\n",
      "443 prep\n",
      "438 pcomp\n",
      "416 dobj\n",
      "399 advcl\n",
      "443 prep\n",
      "446 quantmod\n",
      "7037928807040764755 compound\n",
      "439 pobj\n"
     ]
    }
   ],
   "source": [
    "for i in doc1:\n",
    "    print(i.dep, i.dep_)"
   ]
  },
  {
   "cell_type": "code",
   "execution_count": 35,
   "id": "1c4090d8",
   "metadata": {},
   "outputs": [
    {
     "name": "stdout",
     "output_type": "stream",
     "text": [
      "6418411030699964375 Apple\n",
      "10382539506755952630 be\n",
      "16096726548953279178 look\n",
      "11667289587015813222 at\n",
      "9457496526477982497 buy\n",
      "14409890634315022856 U.K.\n",
      "7622488711881293715 startup\n",
      "16037325823156266367 for\n",
      "11283501755624150392 $\n",
      "15180167692696242062 2\n",
      "1231493654637052630 billion\n"
     ]
    }
   ],
   "source": [
    "#lemma means for is there is be after applying lemma and also looking:look, buying:buy like\n",
    "for i in doc1:\n",
    "    print(i.lemma, i.lemma_)"
   ]
  },
  {
   "cell_type": "code",
   "execution_count": 36,
   "id": "a56699e2",
   "metadata": {},
   "outputs": [
    {
     "data": {
      "text/plain": [
       "[('tok2vec', <spacy.pipeline.tok2vec.Tok2Vec at 0x24cac88d0e0>),\n",
       " ('tagger', <spacy.pipeline.tagger.Tagger at 0x24cac5e0720>),\n",
       " ('parser', <spacy.pipeline.dep_parser.DependencyParser at 0x24cac6bdfa0>),\n",
       " ('ner', <spacy.pipeline.ner.EntityRecognizer at 0x24cac6bd9a0>),\n",
       " ('attribute_ruler',\n",
       "  <spacy.pipeline.attributeruler.AttributeRuler at 0x24cac917540>),\n",
       " ('lemmatizer', <spacy.lang.en.lemmatizer.EnglishLemmatizer at 0x24cac91f280>)]"
      ]
     },
     "execution_count": 36,
     "metadata": {},
     "output_type": "execute_result"
    }
   ],
   "source": [
    "english.pipeline"
   ]
  },
  {
   "cell_type": "code",
   "execution_count": 37,
   "id": "22b6d73f",
   "metadata": {},
   "outputs": [],
   "source": [
    "doc2 = english(\"Google isn't looking for startup.\")"
   ]
  },
  {
   "cell_type": "code",
   "execution_count": 38,
   "id": "197c0254",
   "metadata": {},
   "outputs": [
    {
     "data": {
      "text/plain": [
       "Google isn't looking for startup."
      ]
     },
     "execution_count": 38,
     "metadata": {},
     "output_type": "execute_result"
    }
   ],
   "source": [
    "doc2"
   ]
  },
  {
   "cell_type": "code",
   "execution_count": 40,
   "id": "a1d8b78f",
   "metadata": {},
   "outputs": [
    {
     "data": {
      "text/plain": [
       "Google isn't looking for startup."
      ]
     },
     "execution_count": 40,
     "metadata": {},
     "output_type": "execute_result"
    }
   ],
   "source": [
    "doc2[0:]"
   ]
  },
  {
   "cell_type": "code",
   "execution_count": 41,
   "id": "843b48c8",
   "metadata": {},
   "outputs": [
    {
     "data": {
      "text/plain": [
       "7"
      ]
     },
     "execution_count": 41,
     "metadata": {},
     "output_type": "execute_result"
    }
   ],
   "source": [
    "len(doc2)"
   ]
  },
  {
   "cell_type": "code",
   "execution_count": 43,
   "id": "99fb4205",
   "metadata": {},
   "outputs": [
    {
     "name": "stdout",
     "output_type": "stream",
     "text": [
      "Google\n",
      "is\n",
      "n't\n",
      "looking\n",
      "for\n",
      "startup\n",
      ".\n"
     ]
    }
   ],
   "source": [
    "for i in (doc2):\n",
    "    print(i.text)"
   ]
  },
  {
   "cell_type": "code",
   "execution_count": 45,
   "id": "87c5a874",
   "metadata": {},
   "outputs": [
    {
     "name": "stdout",
     "output_type": "stream",
     "text": [
      "Google nsubj PROPN Google\n",
      "is aux AUX be\n",
      "n't neg PART n't\n",
      "looking ROOT VERB look\n",
      "for prep ADP for\n",
      "startup pobj NOUN startup\n",
      ". punct PUNCT .\n"
     ]
    }
   ],
   "source": [
    "for i in doc2:\n",
    "    print(i.text, i.dep_, i.pos_, i.lemma_)"
   ]
  },
  {
   "cell_type": "code",
   "execution_count": 46,
   "id": "eb510343",
   "metadata": {},
   "outputs": [
    {
     "data": {
      "text/plain": [
       "'nominal subject'"
      ]
     },
     "execution_count": 46,
     "metadata": {},
     "output_type": "execute_result"
    }
   ],
   "source": [
    "spacy.explain('nsubj')"
   ]
  },
  {
   "cell_type": "code",
   "execution_count": 50,
   "id": "f0dbadbb",
   "metadata": {},
   "outputs": [
    {
     "data": {
      "text/plain": [
       "'adposition'"
      ]
     },
     "execution_count": 50,
     "metadata": {},
     "output_type": "execute_result"
    }
   ],
   "source": [
    "spacy.explain('ADP')"
   ]
  },
  {
   "cell_type": "code",
   "execution_count": 52,
   "id": "709e2163",
   "metadata": {},
   "outputs": [
    {
     "data": {
      "text/plain": [
       "'object of preposition'"
      ]
     },
     "execution_count": 52,
     "metadata": {},
     "output_type": "execute_result"
    }
   ],
   "source": [
    "spacy.explain('pobj')"
   ]
  },
  {
   "cell_type": "code",
   "execution_count": 53,
   "id": "67a256e3",
   "metadata": {},
   "outputs": [
    {
     "data": {
      "text/plain": [
       "'auxiliary'"
      ]
     },
     "execution_count": 53,
     "metadata": {},
     "output_type": "execute_result"
    }
   ],
   "source": [
    "spacy.explain('AUX')"
   ]
  },
  {
   "cell_type": "code",
   "execution_count": 55,
   "id": "7219bdee",
   "metadata": {},
   "outputs": [
    {
     "name": "stdout",
     "output_type": "stream",
     "text": [
      "Nicks\n",
      "carrier\n"
     ]
    }
   ],
   "source": [
    "for i in s.noun_chunks:\n",
    "    print(i.text)"
   ]
  },
  {
   "cell_type": "code",
   "execution_count": 56,
   "id": "2b72da71",
   "metadata": {},
   "outputs": [],
   "source": [
    "doc3 = english(\"Microsoft to build a factory for $7 million. \")"
   ]
  },
  {
   "cell_type": "code",
   "execution_count": 65,
   "id": "4cea4b76",
   "metadata": {},
   "outputs": [
    {
     "name": "stdout",
     "output_type": "stream",
     "text": [
      "Microsoft\n",
      "$7 million\n"
     ]
    }
   ],
   "source": [
    "#name Entity\n",
    "for i in doc3.ents:\n",
    "    print(i)"
   ]
  },
  {
   "cell_type": "code",
   "execution_count": 69,
   "id": "c533ceca",
   "metadata": {},
   "outputs": [
    {
     "name": "stdout",
     "output_type": "stream",
     "text": [
      "Microsoft ORG\n",
      "$7 million MONEY\n"
     ]
    }
   ],
   "source": [
    "#to know label like if company is there then it print Organization\n",
    "for i in doc3.ents:\n",
    "    print(i.text,i.label_)"
   ]
  },
  {
   "cell_type": "code",
   "execution_count": 70,
   "id": "a1f08341",
   "metadata": {},
   "outputs": [
    {
     "name": "stdout",
     "output_type": "stream",
     "text": [
      "Microsoft\n",
      "a factory\n"
     ]
    }
   ],
   "source": [
    "for i in doc3.noun_chunks:\n",
    "    print(i.text)"
   ]
  },
  {
   "cell_type": "code",
   "execution_count": null,
   "id": "d2a52d80",
   "metadata": {},
   "outputs": [],
   "source": []
  },
  {
   "cell_type": "code",
   "execution_count": null,
   "id": "77473930",
   "metadata": {},
   "outputs": [],
   "source": []
  },
  {
   "cell_type": "code",
   "execution_count": null,
   "id": "a7d4cdf5",
   "metadata": {},
   "outputs": [],
   "source": []
  },
  {
   "cell_type": "code",
   "execution_count": null,
   "id": "5de7acdf",
   "metadata": {},
   "outputs": [],
   "source": []
  }
 ],
 "metadata": {
  "kernelspec": {
   "display_name": "Python 3 (ipykernel)",
   "language": "python",
   "name": "python3"
  },
  "language_info": {
   "codemirror_mode": {
    "name": "ipython",
    "version": 3
   },
   "file_extension": ".py",
   "mimetype": "text/x-python",
   "name": "python",
   "nbconvert_exporter": "python",
   "pygments_lexer": "ipython3",
   "version": "3.10.12"
  }
 },
 "nbformat": 4,
 "nbformat_minor": 5
}
