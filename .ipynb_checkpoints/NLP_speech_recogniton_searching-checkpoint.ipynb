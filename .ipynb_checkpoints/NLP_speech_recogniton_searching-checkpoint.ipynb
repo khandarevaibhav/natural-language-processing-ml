{
 "cells": [
  {
   "cell_type": "markdown",
   "id": "793ed800",
   "metadata": {},
   "source": [
    "# /*******************************************************\n",
    "* Copyright         : 2022 Vaibhav Khandare\n",
    "* Description       : NLP task speech recognition.\n",
    "*                    \n",
    "* Revision History  :\n",
    "* \t\tAuthor \t\t\n",
    "        Vaibhav Khandare \n",
    "* ------------------------------------------------------------------\n",
    "/******************************************************************/"
   ]
  },
  {
   "cell_type": "code",
   "execution_count": null,
   "id": "a6dcf783",
   "metadata": {},
   "outputs": [],
   "source": [
    "import speech_recognition as sr \n",
    "import pyttsx3\n",
    "import spacy\n",
    "import subprocess as sp\n",
    "import webbrowser\n",
    "#import pywhatkit\n",
    "#import datetime\n",
    "#time = datetime.datetime.now()\n",
    "r = sr.Recognizer()\n",
    "engine = pyttsx3.init()\n",
    "english = spacy.load('en_core_web_sm')"
   ]
  },
  {
   "cell_type": "code",
   "execution_count": 6,
   "id": "f359ba31",
   "metadata": {},
   "outputs": [
    {
     "name": "stdout",
     "output_type": "stream",
     "text": [
      "Start Saying...\n",
      "Speech is Done\n"
     ]
    }
   ],
   "source": [
    "with sr.Microphone() as source:\n",
    "    print(\"Start Saying...\")\n",
    "    audio = r.listen(source)\n",
    "    print(\"Speech is Done\")\n",
    "r.recognize_google(audio)    \n",
    "    \n",
    "#engine = pyttsx3.init('sapi5')"
   ]
  },
  {
   "cell_type": "code",
   "execution_count": 7,
   "id": "3acf77f2",
   "metadata": {},
   "outputs": [],
   "source": [
    "engine.say(\"hello Vaibhav\")\n",
    "engine.say(\"how can i help you\")\n",
    "engine.runAndWait()"
   ]
  },
  {
   "cell_type": "code",
   "execution_count": 8,
   "id": "3ad7d324",
   "metadata": {},
   "outputs": [
    {
     "name": "stdout",
     "output_type": "stream",
     "text": [
      "Start Saying...\n",
      "Speech is Done\n"
     ]
    }
   ],
   "source": [
    "with sr.Microphone() as source:\n",
    "    print(\"Start Saying...\")\n",
    "    audio = r.listen(source)\n",
    "    print(\"Speech is Done\")"
   ]
  },
  {
   "cell_type": "code",
   "execution_count": 9,
   "id": "163dc1d3",
   "metadata": {},
   "outputs": [],
   "source": [
    "r.recognize_google(audio)   \n",
    "speech = r.recognize_google(audio)\n",
    "ch = english(speech)\n",
    "for i in ch :\n",
    "    if i.pos == \"VERB\":\n",
    "        print(i.text, i.lemma_)\n",
    "        myaction = i.lemma\n",
    "engine.say(\"Here is Your Search Result Vaibhav\") \n",
    "engine.runAndWait()"
   ]
  },
  {
   "cell_type": "code",
   "execution_count": 10,
   "id": "0c0767ab",
   "metadata": {},
   "outputs": [
    {
     "data": {
      "text/plain": [
       "'can you please open WhatsApp for me'"
      ]
     },
     "execution_count": 10,
     "metadata": {},
     "output_type": "execute_result"
    }
   ],
   "source": [
    "speech"
   ]
  },
  {
   "cell_type": "code",
   "execution_count": 11,
   "id": "1a62101a",
   "metadata": {},
   "outputs": [],
   "source": [
    "if (\"LinkedIn\" in speech) and (\"Sachin Khandare\" in speech) and (\"run\" in speech) or (\"execute\" in speech) or (\"open\" in speech):\n",
    "          \n",
    "    sp.getoutput(\"\")\n",
    "elif (\"YouTube\" in speech) and (\"open\" in speech) or (\"run\" in speech):\n",
    "    sp.getoutput(\"start chrome https://www.youtube.com/watch?v=Sai7IzsOqUE\")    \n",
    "else:\n",
    "    print(\"Nothing Matched\")"
   ]
  },
  {
   "cell_type": "code",
   "execution_count": null,
   "id": "2daab448",
   "metadata": {},
   "outputs": [],
   "source": []
  },
  {
   "cell_type": "code",
   "execution_count": 13,
   "id": "260bcc1e",
   "metadata": {},
   "outputs": [
    {
     "name": "stdout",
     "output_type": "stream",
     "text": [
      "In 58 seconds web.whatsapp.com will open and after 20 seconds message will be delivered\n"
     ]
    }
   ],
   "source": [
    "import pywhatkit\n",
    "import datetime\n",
    "time = datetime.datetime.now()\n",
    "pywhatkit.sendwhatmsg(\"\", \"\", time.hour,time.minute+2)"
   ]
  },
  {
   "cell_type": "code",
   "execution_count": null,
   "id": "11453eee",
   "metadata": {},
   "outputs": [],
   "source": []
  },
  {
   "cell_type": "code",
   "execution_count": null,
   "id": "927e2e6b",
   "metadata": {},
   "outputs": [],
   "source": []
  },
  {
   "cell_type": "code",
   "execution_count": null,
   "id": "f2017571",
   "metadata": {},
   "outputs": [],
   "source": []
  },
  {
   "cell_type": "code",
   "execution_count": null,
   "id": "a2db992d",
   "metadata": {},
   "outputs": [],
   "source": []
  },
  {
   "cell_type": "code",
   "execution_count": null,
   "id": "ab924723",
   "metadata": {},
   "outputs": [],
   "source": []
  },
  {
   "cell_type": "code",
   "execution_count": null,
   "id": "cd35ab2c",
   "metadata": {},
   "outputs": [],
   "source": []
  },
  {
   "cell_type": "code",
   "execution_count": null,
   "id": "74d6dfb8",
   "metadata": {},
   "outputs": [],
   "source": []
  },
  {
   "cell_type": "code",
   "execution_count": null,
   "id": "3877a470",
   "metadata": {},
   "outputs": [],
   "source": []
  },
  {
   "cell_type": "code",
   "execution_count": null,
   "id": "9aa39a0c",
   "metadata": {},
   "outputs": [],
   "source": []
  },
  {
   "cell_type": "code",
   "execution_count": null,
   "id": "4a9dcf38",
   "metadata": {},
   "outputs": [],
   "source": []
  },
  {
   "cell_type": "code",
   "execution_count": null,
   "id": "74303686",
   "metadata": {},
   "outputs": [],
   "source": []
  },
  {
   "cell_type": "code",
   "execution_count": null,
   "id": "eaa651ac",
   "metadata": {},
   "outputs": [],
   "source": []
  }
 ],
 "metadata": {
  "kernelspec": {
   "display_name": "Python 3 (ipykernel)",
   "language": "python",
   "name": "python3"
  },
  "language_info": {
   "codemirror_mode": {
    "name": "ipython",
    "version": 3
   },
   "file_extension": ".py",
   "mimetype": "text/x-python",
   "name": "python",
   "nbconvert_exporter": "python",
   "pygments_lexer": "ipython3",
   "version": "3.10.12"
  }
 },
 "nbformat": 4,
 "nbformat_minor": 5
}
